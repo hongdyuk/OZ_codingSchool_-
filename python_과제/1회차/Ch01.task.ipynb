{
 "cells": [
  {
   "cell_type": "markdown",
   "metadata": {},
   "source": [
    "<span style=\"font-size:100%\">\n",
    "\n",
    "수업은 모두 열심히 들으셨나요?\n",
    "\n",
    "간혹 강의에서 언급되지 않은 내용이 문제로 나올 수 있습니다.<br>\n",
    "그럴땐 강의 내용 외 문제는 구글링을 통해 해결해주세요<br></span>\n",
    "<span style=\"font-size:80%\">\n",
    "(구글링 또한 개발자가 갖쳐야할 역량 중에 하나랍니다 😊)\n",
    "</span>\n",
    "\n",
    "---"
   ]
  },
  {
   "cell_type": "markdown",
   "metadata": {},
   "source": [
    "<span style=\"font-size:80%\">[문제1]<br><br></span>\n",
    "```인터프리트 방식에 대해 설명하고 2개 이상의 장점을 설명해주세요```"
   ]
  },
  {
   "cell_type": "markdown",
   "metadata": {},
   "source": [
    "<span style=\"color:red\">답변</span>"
   ]
  },
  {
   "cell_type": "markdown",
   "metadata": {},
   "source": [
    "인터프리터 방식 : 프로그램을 실행할 때 인터프리터를 이용하여 코드를 한 줄 씩 읽어나가며 실행하는 방식\n",
    "\n",
    "1. 프로그램 이식성이 좋다.\n",
    "2. 오류 발생 시 읽던 부분에서 멈추게 되므로 오류 발견이 쉬운편 이다."
   ]
  },
  {
   "cell_type": "markdown",
   "metadata": {},
   "source": [
    "---"
   ]
  },
  {
   "cell_type": "markdown",
   "metadata": {},
   "source": [
    "<span style=\"font-size:80%\">[문제2]<br><br></span>\n",
    "```동적 타입 방식의 장점과 단점을 간략히 설명해주세요```"
   ]
  },
  {
   "cell_type": "markdown",
   "metadata": {},
   "source": [
    "<span style=\"color:red\">답변</span>"
   ]
  },
  {
   "cell_type": "markdown",
   "metadata": {},
   "source": [
    "장점 : 타입 선언이 없거나 간소화되어 코드가 간결할 수 있다.\n",
    "\n",
    "단점 : 실행 중에 타입 관련 오류가 발생할 수 있으며, 이는 실행 시간에만 감지된다."
   ]
  },
  {
   "cell_type": "markdown",
   "metadata": {},
   "source": [
    "---"
   ]
  },
  {
   "cell_type": "markdown",
   "metadata": {},
   "source": [
    "<span style=\"font-size:80%\">[문제3]<br><br></span>\n",
    "```Python으로 정적타입 방식의 코드를 작성할 수 있는 방법을 구글링을 통해 검색 후 설명해주세요```"
   ]
  },
  {
   "cell_type": "markdown",
   "metadata": {},
   "source": [
    "<span style=\"color:red\">답변</span>"
   ]
  },
  {
   "cell_type": "markdown",
   "metadata": {},
   "source": [
    "함수의 매개변수와 반환 값에 대한 타입을 지정할 수 있게 함 예를 들어, def greeting(name: str) -> str:와 같이 작성이 가능하다."
   ]
  },
  {
   "cell_type": "markdown",
   "metadata": {},
   "source": [
    "---"
   ]
  },
  {
   "cell_type": "markdown",
   "metadata": {},
   "source": [
    "<span style=\"font-size:80%\">[문제4]<br><br></span>\n",
    "```프로세스와 스레드의 차이점을 설명해주세요```"
   ]
  },
  {
   "cell_type": "markdown",
   "metadata": {},
   "source": [
    "<span style=\"color:red\">답변</span>"
   ]
  },
  {
   "cell_type": "markdown",
   "metadata": {},
   "source": [
    "프로세스: 운영체제로부터 자원을 할당받은 작업의 단위.\n",
    "스레드: 프로세스가 할당받은 자원을 이용하는 실행 흐름의 단위.\n",
    "\n",
    "프로세스는 독립된 메모리 공간에서 실행되는 프로그램의 인스턴스이고, 스레드는 같은 프로세스 내에서 실행되는 흐름입니다. 프로세스는 메모리를 독립적으로 사용하며 생성과 관리 비용이 높지만 안정적입니다. 스레드는 메모리를 공유하며 생성과 관리 비용이 낮고 빠른 통신이 가능하지만 하나의 스레드 실패 시 전체 프로세스에 영향을 미칩니다. 프로세스 간 통신은 IPC를 사용하고, 스레드는 메모리를 통해 직접 통신합니다."
   ]
  },
  {
   "cell_type": "markdown",
   "metadata": {},
   "source": [
    "---"
   ]
  },
  {
   "cell_type": "markdown",
   "metadata": {},
   "source": [
    "<span style=\"font-size:80%\">[문제5]<br><br></span>\n",
    "```Python 2버전대와 3버전대의 차이를 성명해주세요```"
   ]
  },
  {
   "cell_type": "markdown",
   "metadata": {},
   "source": [
    "<span style=\"color:red\">답변</span>"
   ]
  },
  {
   "cell_type": "markdown",
   "metadata": {},
   "source": [
    "출력 함수: Python 2에서는 print가 문(statement)으로 사용되지만, Python 3에서는 함수(function)로 사용됩니다. \n",
    "예: print \"Hello\" (Python 2) vs print(\"Hello\") (Python 3).\n",
    "\n",
    "\n",
    "문자열 처리: Python 2에서는 ASCII가 기본이며 유니코드 문자열을 u 접두사를 사용하여 나타냅니다. Python 3에서는 모든 문자열이 기본적으로 유니코드입니다.\n",
    "\n",
    "\n",
    "나눗셈 연산: Python 2에서는 정수 나눗셈이 기본적으로 정수 결과를 반환하지만, Python 3에서는 실수 결과를 반환합니다. \n",
    "예: 5 / 2는 2 (Python 2) vs 2.5 (Python 3).\n",
    "\n",
    "\n",
    "xrange vs range: Python 2에서는 xrange가 존재하여 메모리 효율적인 반복을 제공했지만, Python 3에서는 range가 이 역할을 합니다.\n",
    "\n",
    "\n",
    "표준 라이브러리 변경: 일부 모듈과 함수가 이름이 변경되거나 제거되었습니다. \n",
    "예: ConfigParser는 configparser로 변경됨.\n",
    "\n",
    "\n",
    "에러 처리: Python 2에서는 except Exception, e:로 에러를 처리했지만, Python 3에서는 except Exception as e:로 처리합니다.\n",
    "\n",
    "\n",
    "네이티브 지원: Python 3는 다양한 최신 프로그래밍 언어 기능 및 표준을 더 잘 지원합니다.\n",
    "\n",
    "\n",
    "이로 인해 Python 3는 더 나은 성능, 보안, 코드 가독성을 제공합니다."
   ]
  },
  {
   "cell_type": "markdown",
   "metadata": {},
   "source": [
    "---"
   ]
  },
  {
   "cell_type": "markdown",
   "metadata": {},
   "source": [
    "<span style=\"font-size:80%\">[문제6]<br><br></span>\n",
    "```Python에서 메모리 관리는 어떻게 이루어지는지 설명해주세요```"
   ]
  },
  {
   "cell_type": "markdown",
   "metadata": {},
   "source": [
    "<span style=\"color:red\">답변</span>"
   ]
  },
  {
   "cell_type": "markdown",
   "metadata": {},
   "source": [
    "python은 동적 타이핑을 지원하므로 변수에 값을 할당할 때마다 자동으로 메모리를 할당합니다."
   ]
  }
 ],
 "metadata": {
  "language_info": {
   "name": "python"
  }
 },
 "nbformat": 4,
 "nbformat_minor": 2
}
