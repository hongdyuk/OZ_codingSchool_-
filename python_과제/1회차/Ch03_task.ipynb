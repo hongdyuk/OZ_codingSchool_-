{
 "cells": [
  {
   "cell_type": "markdown",
   "metadata": {},
   "source": [
    "<span style=\"font-size:100%\">\n",
    "\n",
    "수업은 모두 열심히 들으셨나요?\n",
    "\n",
    "간혹 강의에서 언급되지 않은 내용이 문제로 나올 수 있습니다.<br>\n",
    "그럴땐 강의 내용 외 문제는 구글링을 통해 해결해주세요<br></span>\n",
    "<span style=\"font-size:80%\">\n",
    "(구글링 또한 개발자가 갖쳐야할 역량 중에 하나랍니다 😊)\n",
    "</span>\n",
    "\n",
    "---"
   ]
  },
  {
   "cell_type": "markdown",
   "metadata": {},
   "source": [
    "<span style=\"font-size:80%\">[문제1]<br><br></span>\n",
    "```주로 작성 중인 코드의 끝을 알리는 기호로 사용되며 파이썬에서 한 줄에 작성된 서로 다른 코드를 구분 지을 때 사용할 수 있는 기호를 골라주세요```\n",
    "\n",
    "1. ' , ' (쉼표)\n",
    "2. ' + ' (더하기 기호)\n",
    "3. ' ; ' (세미콜론)\n",
    "4. ' / ' (슬래시)"
   ]
  },
  {
   "cell_type": "markdown",
   "metadata": {},
   "source": [
    "<span style=\"color:red\">답변</span> :"
   ]
  },
  {
   "cell_type": "markdown",
   "metadata": {},
   "source": [
    "';'세미콜론"
   ]
  },
  {
   "cell_type": "markdown",
   "metadata": {},
   "source": [
    "----"
   ]
  },
  {
   "cell_type": "markdown",
   "metadata": {},
   "source": [
    "<span style=\"font-size:80%\">[문제2]<br><br></span>\n",
    "```Python의 PEP 8은 무엇인지 설명하고 PEP 8의 핵심적인 규칙을 1개 이상을 설명해주세요```"
   ]
  },
  {
   "cell_type": "markdown",
   "metadata": {},
   "source": [
    "<span style=\"color:red\">답변</span>"
   ]
  },
  {
   "cell_type": "markdown",
   "metadata": {},
   "source": [
    "PEP 8 : python코드 작성 시 권장되는 스타일 가이드 라인을 정의한 문서입니다.\n",
    "\n",
    "들여쓰기, 줄 길이, 공백, 주석, 문자열, 이름 규칙, 임포트, 코딩 스타일, 독스트링\n"
   ]
  },
  {
   "cell_type": "markdown",
   "metadata": {},
   "source": [
    "----"
   ]
  },
  {
   "cell_type": "markdown",
   "metadata": {},
   "source": [
    "<span style=\"font-size:80%\">[문제3]<br><br></span>\n",
    "```Python에서 \"#\"이 의마하는 것은 무엇인지 설명해주세요```"
   ]
  },
  {
   "cell_type": "markdown",
   "metadata": {},
   "source": [
    "<span style=\"color:red\">답변</span>"
   ]
  },
  {
   "cell_type": "markdown",
   "metadata": {},
   "source": [
    "'#'은 주석을 의미합니다. 주석은 코드의 이해를 돕기위해 사용하며, 중요한 부분에 대해 명확하게 설명합니다."
   ]
  },
  {
   "cell_type": "markdown",
   "metadata": {},
   "source": [
    "----"
   ]
  },
  {
   "cell_type": "markdown",
   "metadata": {},
   "source": [
    "<span style=\"font-size:80%\">[문제4]<br><br></span>\n",
    "```Python의 들여쓰기 장점과 기능에 대해 설명해주세요```"
   ]
  },
  {
   "cell_type": "markdown",
   "metadata": {},
   "source": [
    "<span style=\"color:red\">답변</span>"
   ]
  },
  {
   "cell_type": "markdown",
   "metadata": {},
   "source": [
    "들여쓰기\n",
    "\n",
    "장점\n",
    "1. 가독성 향상 : 들여쓰기는 코드의 계층 구조를 명확히 하여 코드가 쉽게 읽히고 이해되도록 합니다.\n",
    "2. 유지보수성 향상 : 잘 들여쓰기된 코드는 유지보수하기 쉽습니다. 다른 개발자들이 코드를 이해하고 수정하는 데 걸리는 시간이 줄어듭니다.\n",
    "3. 코드의 일관성 유지 : 일관된 들여쓰기 스타일을 유지하면, 팀 내 여러 개발자가 작성한 코드가 통일성을 가지게 되어 협업이 원활해집니다.\n",
    "\n",
    "기능\n",
    "1. 블록구분 : 조건문(if), 반복문(for, while), 함수 정의(def), 클래스 정의(class) 등의 코드 블록을 들여쓰기로 구분합니다.\n",
    "2. 계층 구조 표현 : 각 코드 블록은 상위 블록에 대해 들여쓰기가 되어 있어, 코드의 종속 관계를 쉽게 파악할 수 있습니다.\n",
    "3. 컨텍스트 구분 : 들여쓰기는 서로 다른 컨텍스트를 구분하는 데 사용됩니다. 예를 들어, try-except 블록에서 예외 처리 코드를 들여쓰기로 구분합니다."
   ]
  },
  {
   "cell_type": "markdown",
   "metadata": {},
   "source": [
    "----"
   ]
  },
  {
   "cell_type": "markdown",
   "metadata": {},
   "source": [
    "<span style=\"font-size:80%\">[문제5]<br><br></span>\n",
    "```print( )문의 기능 및 특징에 대해 설명해주세요```"
   ]
  },
  {
   "cell_type": "markdown",
   "metadata": {},
   "source": [
    "<span style=\"color:red\">답변</span>"
   ]
  },
  {
   "cell_type": "markdown",
   "metadata": {},
   "source": [
    "print() 함수 : 표준 출력 장치에 데이터를 출력하는 기본 도구 \n",
    "\n",
    "기본 사용법: 문자열, 숫자, 변수 등 여러 유형의 데이터를 출력할 수 있습니다. 여러 항목을 출력할 때는 기본적으로 각 항목 사이에 공백이 추가됩니다.\n",
    "\n",
    "\n",
    "sep 인수: 여러 항목을 출력할 때 각 항목 사이에 삽입할 구분자를 지정할 수 있습니다. 기본값은 공백이지만, 이를 변경하여 콤마 등 다른 구분자를 사용할 수 있습니다.\n",
    "\n",
    "\n",
    "end 인수: 출력이 끝난 후 추가할 문자를 지정할 수 있습니다. 기본값은 줄 바꿈 문자(\\n)이지만, 이를 변경하여 줄 바꿈 없이 출력을 이어가거나 다른 문자를 사용할 수 있습니다.\n",
    "\n",
    "\n",
    "file 인수: 출력을 파일이나 다른 출력 스트림으로 리다이렉트할 수 있습니다. 이를 통해 콘솔이 아닌 파일에 데이터를 기록할 수 있습니다.\n",
    "\n",
    "\n",
    "flush 인수: 출력을 즉시 플러시할지 여부를 지정합니다. 기본값은 False이며, True로 설정하면 출력 버퍼를 즉시 비웁니다.\n",
    "\n",
    "\n",
    "이러한 다양한 기능을 통해 print() 함수는 단순한 텍스트 출력뿐만 아니라, 포매팅된 출력, 파일 출력, 출력 제어 등 다양한 용도로 사용될 수 있습니다."
   ]
  }
 ],
 "metadata": {
  "kernelspec": {
   "display_name": "Python 3",
   "language": "python",
   "name": "python3"
  },
  "language_info": {
   "codemirror_mode": {
    "name": "ipython",
    "version": 3
   },
   "file_extension": ".py",
   "mimetype": "text/x-python",
   "name": "python",
   "nbconvert_exporter": "python",
   "pygments_lexer": "ipython3",
   "version": "3.12.4"
  }
 },
 "nbformat": 4,
 "nbformat_minor": 2
}
